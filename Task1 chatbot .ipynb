{
 "cells": [
  {
   "cell_type": "code",
   "execution_count": 1,
   "id": "58c03c16",
   "metadata": {},
   "outputs": [
    {
     "name": "stdout",
     "output_type": "stream",
     "text": [
      "You: hello\n",
      "Chatbot: Hello! How can I assist you today?\n",
      "You: how are you\n",
      "Chatbot: I'm just a chatbot, but I'm here to help you!\n",
      "You: what is your name\n",
      "Chatbot: I'm a simple rule-based chatbot.\n",
      "You: bye\n",
      "Chatbot: Goodbye! Have a great day!\n"
     ]
    }
   ],
   "source": [
    "def chatbot_response(user_input):\n",
    "    user_input = user_input.lower()\n",
    "\n",
    "    if \"hello\" in user_input:\n",
    "        return \"Hello! How can I assist you today?\"\n",
    "    elif \"how are you\" in user_input:\n",
    "        return \"I'm just a chatbot, but I'm here to help you!\"\n",
    "    elif \"what is your name\" in user_input:\n",
    "        return \"I'm a simple rule-based chatbot.\"\n",
    "    elif \"bye\" in user_input:\n",
    "        return \"Goodbye! Have a great day!\"\n",
    "    else:\n",
    "        return \"I'm not sure how to respond to that. Can you please rephrase?\"\n",
    "\n",
    "# Example conversation\n",
    "while True:\n",
    "    user_input = input(\"You: \")\n",
    "    if user_input.lower() == \"bye\":\n",
    "        print(\"Chatbot: Goodbye! Have a great day!\")\n",
    "        break\n",
    "    response = chatbot_response(user_input)\n",
    "    print(f\"Chatbot: {response}\")\n"
   ]
  },
  {
   "cell_type": "code",
   "execution_count": null,
   "id": "09ae5c2f",
   "metadata": {},
   "outputs": [],
   "source": []
  }
 ],
 "metadata": {
  "kernelspec": {
   "display_name": "Python 3 (ipykernel)",
   "language": "python",
   "name": "python3"
  },
  "language_info": {
   "codemirror_mode": {
    "name": "ipython",
    "version": 3
   },
   "file_extension": ".py",
   "mimetype": "text/x-python",
   "name": "python",
   "nbconvert_exporter": "python",
   "pygments_lexer": "ipython3",
   "version": "3.11.5"
  }
 },
 "nbformat": 4,
 "nbformat_minor": 5
}
